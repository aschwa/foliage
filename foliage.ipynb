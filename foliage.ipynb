{
 "cells": [
  {
   "cell_type": "code",
   "execution_count": 82,
   "metadata": {},
   "outputs": [],
   "source": [
    "import pandas as pd\n",
    "import os\n",
    "import datetime as dt\n",
    "import random\n",
    "import matplotlib.pyplot as plt"
   ]
  },
  {
   "cell_type": "markdown",
   "metadata": {},
   "source": [
    "**Key Word Searches**"
   ]
  },
  {
   "cell_type": "markdown",
   "metadata": {},
   "source": [
    "Tweets were collected between 2017-09-12 and 2017-10-27 in the new england area."
   ]
  },
  {
   "cell_type": "code",
   "execution_count": 5,
   "metadata": {},
   "outputs": [],
   "source": [
    "keywords = os.listdir(\"raw-tweets/\")"
   ]
  },
  {
   "cell_type": "code",
   "execution_count": 46,
   "metadata": {},
   "outputs": [
    {
     "name": "stdout",
     "output_type": "stream",
     "text": [
      "Tweet counts for entire period for specific words\n",
      "solar : 282\n",
      "tree : 1041\n",
      "leaf : 1393\n",
      "autumn : 1622\n",
      "wind : 7086\n",
      "nature : 1660\n",
      "foliage : 913\n",
      "fall : 7277\n",
      "turbine : 1\n"
     ]
    }
   ],
   "source": [
    "tweet_dictionary = {}\n",
    "\n",
    "print \"Tweet counts for entire period for specific words\" \n",
    "\n",
    "for word in keywords:\n",
    "    tweet_dictionary[word] = []\n",
    "    days = os.listdir(\"raw-tweets/{}/\".format(word))\n",
    "    total_tweets = 0\n",
    "    for day in days:\n",
    "        with open(\"raw-tweets/{}/{}\".format(word, day)) as f:\n",
    "            tweet_day = f.readlines()\n",
    "            tweet_dictionary[word].extend(tweet_day) \n",
    "    total_tweets = len(tweet_dictionary[word])\n",
    "    print \"{} : {}\".format(word, total_tweets)\n"
   ]
  },
  {
   "cell_type": "code",
   "execution_count": 47,
   "metadata": {},
   "outputs": [
    {
     "name": "stdout",
     "output_type": "stream",
     "text": [
      "Random Tweets for each keyword other than turbine (only had 1 tweet)\n",
      "leaf\n",
      "plus the ground looks pretty when it's blanketed in color\n",
      "\n",
      "Leaf peeping and eating WAY too much = Perfect weekend! @ Phoenicia Diner https://t.co/8zdTP12fyx\n",
      "One brother leaves another arrives - Drinking a Free Rise (Dry Hopped W/ Galaxy) @ Three C's Drinking - https://t.co/wSnzNmJtgd\n",
      "@CrossingNewLeaf  Just 5 more hours for Jason..... https://t.co/pkl9eOz77h\n",
      "________________________________\n",
      "foliage\n",
      ".\n",
      "Fall for me.              #punny #autumn #leaves #foliage #hudsonvalley #maskerorchards @ Masker Orchards https://t.co/Ab2zgxoJkJ\n",
      "#foliage #vermont #cows @ Warren, Vermont https://t.co/DWwaO5vIq9\n",
      "#nofilter #vermont #ladies #nature #fallfoliage #serene  https://t.co/tIHxcwHiIX\n",
      ".mother.  #whatafeeling #views #fallfoliage ...such an unforgettable day with ohheyitsolgie,  https://t.co/IDAsbeRSw6\n",
      "________________________________\n",
      "nature\n",
      ".\n",
      ".\n",
      "Nothing says \"good morning\" like a rousing debate on set theory and the nature of infinity.\n",
      "#nature\n",
      "#Montpelier, VT #Emprego: Stewardship and Volunteer Coordinator - 45796 na The Nature Conservancy https://t.co/l95gB0rjSK #Verde\n",
      "________________________________\n",
      "tree\n",
      "Construction on #RobertMosesCauseway Both directions from Ocean Parkway; Captree State Park to Fire Island Inlet...https://t.co/TQbBZiqkpw\n",
      "#FairyCircle #FairyRing of #Mushrooms around a #BlackLocust tree it's been growing for over a  https://t.co/qV3OLsXE4w\n",
      "@annoir @AneCrabtree \"Pain-capable Unborn Child Protection Act\" says it all. The shame is anyone voted against prot  https://t.co/xpDZYXReYO\n",
      "Come in to the library and decorate an apple for our tree! It's looking a little bare! https://t.co/dr4Q6sB5Dk\n",
      "I'm at Fire Island Lighthouse in Captree Island, NY https://t.co/BJf7LLeplT\n",
      "________________________________\n",
      "autumn\n",
      "Send a bushel-full of love this autumn from @lovepop. 3D laser-cut works of paper art. https://t.co/tCIm32HWqS  #ad https://t.co/rmUPmcUjgy\n",
      "Peaceful fresh air at countryside New Hampshire #nofilter #autumn en Jaffrey, New Hampshire https://t.co/XpVXTysNvC\n",
      "I love autumn\n",
      "-\n",
      "You might be in #vermont if you look up and see this...#autumn @ Burlington, Vermont https://t.co/mqHfnDQgqC\n",
      "________________________________\n",
      "solar\n",
      "@SEIA solar panels manufacturing is toxic , heavy use ,water &amp; power. made frm alum. copper, rare earth minerals. non-renewable. @PBS\n",
      "This 16,000-panel array will  https://t.co/mEcfDo7QxF\n",
      "Media: \"Hillary C  https://t.co/mh1FUqp6tB\n",
      "Just going through some photos to archive from the iPhone. This one caught my eye. The flare of this summer's solar  https://t.co/twcGux6l1U\n",
      "Surpassing our yearly goal of 100,000 pounds of Co2 emission saved!  #solar #solarpower #environment https://t.co/fqxq2IMwI0\n",
      "________________________________\n",
      "fall\n",
      "\"I don't wanna fall in love off of subtweets, so, let's keep personal\"\n",
      "@CBSE_pbp Oh, you fall so easily .... they may look okay now, but let's wait to see what kind of character the kits  https://t.co/uRmXgofXsG\n",
      "Have an amazing Tuesday\n",
      "My dms are open for only cute morenos who dont fall under the fuck boy category\n",
      "280 characters is a mistake. Expect #TWTR stock to fall\n",
      "________________________________\n",
      "wind\n",
      "moderate rain -&gt; heavy intensity rain\n",
      "Wind 0.0 mph ---. Barometer 30.104 in, Rising. Temperature 45.0  F. Rain today 0.00 in. Humidity 91%\n",
      "Wind 2.0 mph SSE. Barometer 30.273 in, Falling Rapidly. Temperature 60.7  F. Rain today 0.00 in. Humidity 56%\n",
      "temperature up 73 F -&gt; 75 F\n",
      "Wind 3.0 mph W. Barometer 29.855 in, Rising slowly. Temperature 50.1  F. Rain today 0.00in. Humidity 62%\n",
      "________________________________\n"
     ]
    }
   ],
   "source": [
    "print \"Random Tweets for each keyword other than turbine (only had 1 tweet)\"\n",
    "\n",
    "try:\n",
    "    del tweet_dictionary['turbine']\n",
    "except KeyError:\n",
    "    pass\n",
    "              \n",
    "for word in tweet_dictionary.keys():\n",
    "    print word\n",
    "    for random_tweet in random.sample(tweet_dictionary[word], 5):\n",
    "        print random_tweet.strip()\n",
    "    print \"________________________________\"  "
   ]
  },
  {
   "cell_type": "markdown",
   "metadata": {},
   "source": [
    "**Time series analysis**"
   ]
  },
  {
   "cell_type": "code",
   "execution_count": 84,
   "metadata": {},
   "outputs": [
    {
     "data": {
      "text/plain": [
       "<matplotlib.axes._subplots.AxesSubplot at 0x10a732890>"
      ]
     },
     "execution_count": 84,
     "metadata": {},
     "output_type": "execute_result"
    },
    {
     "data": {
      "image/png": "[encoded data removed]",
      "text/plain": [
       "<matplotlib.figure.Figure at 0x106ad0450>"
      ]
     },
     "metadata": {},
     "output_type": "display_data"
    }
   ],
   "source": [
    "%matplotlib inline\n",
    "\n",
    "word = \"foliage\"\n",
    "days = os.listdir(\"raw-tweets/{}/\".format(word))\n",
    "\n",
    "time_dict = {}\n",
    "\n",
    "for day in days:\n",
    "    year = day[:4]; month= day[5:7]; d = day[8:]\n",
    "    date = dt.date(int(year), int(month), int(d))\n",
    "    with open(\"raw-tweets/{}/{}\".format(word, day)) as f:\n",
    "        tweet_day = f.readlines()\n",
    "        time_dict[date] = len(tweet_day)\n",
    "        \n",
    "date_counts = pd.DataFrame.from_dict(time_dict, orient = 'index')\n",
    "date_counts.columns = ['tweet_count']\n",
    "date_counts.sort_index()\n",
    "f, ax = plt.subplots( figsize=(12,8))\n",
    "date_counts.plot(y='tweet_count', ax= ax)"
   ]
  },
  {
   "cell_type": "code",
   "execution_count": null,
   "metadata": {},
   "outputs": [],
   "source": [
    "s = dt.datetime.strptime"
   ]
  }
 ],
 "metadata": {
  "kernelspec": {
   "display_name": "Python 2",
   "language": "python",
   "name": "python2"
  },
  "language_info": {
   "codemirror_mode": {
    "name": "ipython",
    "version": 2
   },
   "file_extension": ".py",
   "mimetype": "text/x-python",
   "name": "python",
   "nbconvert_exporter": "python",
   "pygments_lexer": "ipython2",
   "version": "2.7.12"
  }
 },
 "nbformat": 4,
 "nbformat_minor": 2
}
