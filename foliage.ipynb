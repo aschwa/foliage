{
 "cells": [
  {
   "cell_type": "code",
   "execution_count": 22,
   "metadata": {},
   "outputs": [],
   "source": [
    "import pandas as pd\n",
    "import os\n",
    "import random"
   ]
  },
  {
   "cell_type": "markdown",
   "metadata": {},
   "source": [
    "**Key Word Searches**"
   ]
  },
  {
   "cell_type": "code",
   "execution_count": 5,
   "metadata": {},
   "outputs": [],
   "source": [
    "keywords = os.listdir(\"raw-tweets/\")"
   ]
  },
  {
   "cell_type": "code",
   "execution_count": 39,
   "metadata": {},
   "outputs": [
    {
     "name": "stdout",
     "output_type": "stream",
     "text": [
      "solar : 282\n",
      "tree : 1041\n",
      "leaf : 1393\n",
      "autumn : 1622\n",
      "wind : 7086\n",
      "nature : 1660\n",
      "foliage : 913\n",
      "fall : 7277\n",
      "turbine : 1\n"
     ]
    }
   ],
   "source": [
    "tweet_dictionary = {}\n",
    "\n",
    "for word in keywords:\n",
    "    tweet_dictionary[word] = []\n",
    "    days = os.listdir(\"raw-tweets/{}/\".format(word))\n",
    "    total_tweets = 0\n",
    "    for day in days:\n",
    "        with open(\"raw-tweets/{}/{}\".format(word, day)) as f:\n",
    "            tweet_day = f.readlines()\n",
    "            tweet_dictionary[word].extend(tweet_day) \n",
    "    total_tweets = len(tweet_dictionary[word])\n",
    "    print \"{} : {}\".format(word, total_tweets)"
   ]
  },
  {
   "cell_type": "code",
   "execution_count": 45,
   "metadata": {},
   "outputs": [
    {
     "name": "stdout",
     "output_type": "stream",
     "text": [
      "leaf\n",
      "\n",
      "#Whales leaves you speechless https://t.co/MpvRLhSW33\n",
      "#leaves on the #Appalachiantrail near #pittsfield #MA #hiking #adventure #travel #photograghy @  https://t.co/Kwj9JvOUd2\n",
      "The leaves are turning early this year and  https://t.co/7n9tcL1PIu\n",
      "\n",
      "________________________________\n",
      "foliage\n",
      "Distracted myself from Game 7 by doing 14mi up to Anthony s Nose and along the Appalachian Trail. Foliage wasn t ne  https://t.co/BFfg2vBGKz\n",
      "#applefest #foliage #newengland #wachusett #fallcelebration\n",
      "Show your true colors.\n",
      "#fotos #photos #eriecanal #mohawkvalley ...  https://t.co/WRPoC1ZPaR\n",
      ".\n",
      "________________________________\n",
      "nature\n",
      ".\n",
      "To LaRouche, HUMAN NATURE is \"BASICALLY GOOD,\" while an ABERRANT Leviathan \"ONLY HITHERTO\" the RULE still \"CAN\" be \"RATIONALLY  NEUTRALIZED!\n",
      "\n",
      "we saw 3 meteors tonight and stared at the entire sky and all of the visible constellations and laughed and danced and enjoyed mama nature\n",
      "@UNITEDNATIONS When nature will have enough with damaging human activity it will send its HURRICANE CLUB to get rid  https://t.co/DqAgQBy8WV\n",
      "________________________________\n",
      "tree\n",
      "Best tree branches ever! Walking around the @kripalucenter grounds you receive many blessings-  https://t.co/BIbwgZVAEa\n",
      "@singlelife2wife @DollarTree We have waaaaay too many skeletons over here, but it's all good!\n",
      "Construction on #RobertMosesCauseway Both directions from Ocean Parkway; Captree State Park to Fire Island Inlet...https://t.co/bPf02iyBSS\n",
      "Did it hurt when you fell from the top of the whore tree banging every girl on the way down\n",
      "Updated: Construction on #RobertMosesCauseway Both directions from Ocean Parkway; Captree State Park to Fire...https://t.co/VWxAAV8eN4\n",
      "________________________________\n",
      "autumn\n",
      "I just saw a chipmunk with the fullest cheeks run around the front yard. Autumn in New England is amazing\n",
      "New Autumn Cocktails!!! poyntnewburyport\n",
      "#sales  https://t.co/Oo4DiAa2tV\n",
      "#weddingseason #autumn #autumnwedding #WEDDINGPHOTOGRAPHY  https://t.co/mBfmojwRj9\n",
      "I love you autumn rose so much    https://t.co/FpbRCBklJX\n",
      "________________________________\n",
      "solar\n",
      "@MelissaLeeCNBC news making rounds non Tariffs and Chinese solar co's.  You should get Gordon on your show ahead of Friday.\n",
      "@joenbc: \"Clinton confesses. Hill will kill coal\"\n",
      "@TarunGirish @CarmenYulinCruz #Tesla will prove we no longer need a grid.\n",
      "It can't\n",
      "@VTVSLA librarians working with the HS solar kit courtesy of @VermontEnergyEd at #VSLA fall conference! https://t.co/vw7jNwB1Uo\n",
      "________________________________\n",
      "fall\n",
      "Last batch before the leaves begin to fall. #garden #harvest #fall #GoodByeSummer @ Salem, New  https://t.co/JmvARw7mgO\n",
      "Even though today started off crappy- our well  https://t.co/pzp1fxAFe4\n",
      "Deep moisture.\n",
      ".\n",
      "Autumn has officially arrived at The Lodge (on a 75 degree day).\n",
      "________________________________\n",
      "wind\n",
      "wind 2mph -&gt; 3mph\n",
      "temperature up 76 F -&gt; 81 F\n",
      "Wind 0.0 mph WNW. Barometer 29.747 in, Rising slowly. Temperature 67.2  F. Rain today 0.00in. Humidity 89%\n",
      "temperature up 61 F -&gt; 64 F\n",
      "light rain -&gt; broken clouds\n",
      "________________________________\n"
     ]
    }
   ],
   "source": [
    "try:\n",
    "    del tweet_dictionary['turbine']\n",
    "except KeyError:\n",
    "    pass\n",
    "              \n",
    "for word in tweet_dictionary.keys():\n",
    "    print word\n",
    "    for random_tweet in random.sample(tweet_dictionary[word], 5):\n",
    "        print random_tweet.strip()\n",
    "    print \"________________________________\"  "
   ]
  }
 ],
 "metadata": {
  "kernelspec": {
   "display_name": "Python 2",
   "language": "python",
   "name": "python2"
  },
  "language_info": {
   "codemirror_mode": {
    "name": "ipython",
    "version": 2
   },
   "file_extension": ".py",
   "mimetype": "text/x-python",
   "name": "python",
   "nbconvert_exporter": "python",
   "pygments_lexer": "ipython2",
   "version": "2.7.12"
  }
 },
 "nbformat": 4,
 "nbformat_minor": 2
}
